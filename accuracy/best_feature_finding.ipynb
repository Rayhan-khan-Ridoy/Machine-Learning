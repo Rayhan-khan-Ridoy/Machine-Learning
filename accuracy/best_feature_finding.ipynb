{
 "cells": [
  {
   "cell_type": "code",
   "execution_count": 1,
   "metadata": {},
   "outputs": [
    {
     "name": "stdout",
     "output_type": "stream",
     "text": [
      "     Specs         Score\n",
      "1   535.57  3.497484e+06\n",
      "0   807.41  3.471887e+06\n",
      "6   494.26  2.445471e+06\n",
      "7   221.65  2.423221e+06\n",
      "4   170.32  5.870213e+05\n",
      "5   861.78  5.800912e+05\n",
      "3   182.65  1.283545e+05\n",
      "9   476.72  1.276035e+05\n",
      "2   161.72  1.180872e+05\n",
      "8   143.26  1.153662e+05\n",
      "12  744.14  5.873598e+04\n",
      "13   858.3  5.798613e+04\n",
      "14  840.38  2.626580e+04\n",
      "15  229.76  2.476343e+04\n",
      "10  449.64  2.353494e+04\n",
      "11  653.16  2.074607e+04\n"
     ]
    }
   ],
   "source": [
    "import pandas as pd\n",
    "\n",
    "df = pd.read_csv('Dataset_UAV_8_12_24/datasetUAV8.csv')\n",
    "\n",
    "X = df.iloc[:,0:-1]\n",
    "y = df.iloc[:,-1]\n",
    "\n",
    "\n",
    "from sklearn.feature_selection import SelectKBest\n",
    "from sklearn.feature_selection import chi2\n",
    "bf = SelectKBest(score_func=chi2, k=5)\n",
    "fit = bf.fit(X,y)\n",
    "bfscores = pd.DataFrame(fit.scores_)\n",
    "bfcolums = pd.DataFrame(X.columns)\n",
    "fscore = pd.concat([bfcolums, bfscores], axis=1)\n",
    "fscore.columns = ['Specs', 'Score']\n",
    "print(fscore.nlargest(24,'Score'))"
   ]
  },
  {
   "cell_type": "code",
   "execution_count": null,
   "metadata": {},
   "outputs": [],
   "source": []
  }
 ],
 "metadata": {
  "kernelspec": {
   "display_name": "Python 3",
   "language": "python",
   "name": "python3"
  },
  "language_info": {
   "codemirror_mode": {
    "name": "ipython",
    "version": 3
   },
   "file_extension": ".py",
   "mimetype": "text/x-python",
   "name": "python",
   "nbconvert_exporter": "python",
   "pygments_lexer": "ipython3",
   "version": "3.8.3"
  }
 },
 "nbformat": 4,
 "nbformat_minor": 4
}
