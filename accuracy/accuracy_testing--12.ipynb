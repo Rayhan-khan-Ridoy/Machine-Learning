{
 "cells": [
  {
   "cell_type": "code",
   "execution_count": 1,
   "metadata": {},
   "outputs": [],
   "source": [
    "\n",
    "from sklearn.linear_model import LogisticRegression \n",
    "from sklearn.naive_bayes import GaussianNB\n"
   ]
  },
  {
   "cell_type": "code",
   "execution_count": 2,
   "metadata": {},
   "outputs": [],
   "source": [
    "from sklearn.neighbors import KNeighborsClassifier\n",
    "from sklearn import svm\n",
    "from sklearn.tree import DecisionTreeClassifier\n",
    "from sklearn.ensemble import RandomForestClassifier\n",
    "from sklearn.ensemble import GradientBoostingClassifier\n",
    "from sklearn.ensemble import AdaBoostClassifier\n",
    "from sklearn.ensemble import BaggingClassifier"
   ]
  },
  {
   "cell_type": "code",
   "execution_count": 3,
   "metadata": {},
   "outputs": [],
   "source": [
    "from sklearn.svm import SVC\n"
   ]
  },
  {
   "cell_type": "code",
   "execution_count": 4,
   "metadata": {},
   "outputs": [],
   "source": [
    "import pandas as pd\n",
    "import xgboost as xgb\n",
    "from sklearn.metrics import classification_report\n",
    "from sklearn.metrics import confusion_matrix\n",
    "from sklearn.metrics import accuracy_score\n"
   ]
  },
  {
   "cell_type": "code",
   "execution_count": 5,
   "metadata": {
    "scrolled": true
   },
   "outputs": [
    {
     "name": "stdout",
     "output_type": "stream",
     "text": [
      "   807.41  535.57  161.72  182.65  170.32  861.78  494.26  221.65  143.26  \\\n",
      "0  161.72  182.65  807.41  535.57  170.32  861.78  494.26  221.65  143.26   \n",
      "1  170.32  861.78  807.41  535.57  161.72  182.65  494.26  221.65  143.26   \n",
      "2  494.26  221.65  807.41  535.57  161.72  182.65  170.32  861.78  143.26   \n",
      "3  143.26  476.72  807.41  535.57  161.72  182.65  170.32  861.78  494.26   \n",
      "4  449.64  653.16  807.41  535.57  161.72  182.65  170.32  861.78  494.26   \n",
      "\n",
      "   476.72  449.64  653.16  744.14  858.3  840.38  229.76  3  \n",
      "0  476.72  449.64  653.16  744.14  858.3  840.38  229.76  1  \n",
      "1  476.72  449.64  653.16  744.14  858.3  840.38  229.76  3  \n",
      "2  476.72  449.64  653.16  744.14  858.3  840.38  229.76  3  \n",
      "3  221.65  449.64  653.16  744.14  858.3  840.38  229.76  2  \n",
      "4  221.65  143.26  476.72  744.14  858.3  840.38  229.76  1  \n"
     ]
    }
   ],
   "source": [
    "data=pd.read_csv('Dataset_UAV_8_12_24/datasetUAV12.csv')\n",
    "print(data.head())"
   ]
  },
  {
   "cell_type": "code",
   "execution_count": 6,
   "metadata": {},
   "outputs": [],
   "source": [
    "import tensorflow as tf\n",
    "import numpy as np\n",
    "from sklearn.model_selection import train_test_split\n",
    "X=data.iloc[:,:-1].values\n",
    "y=data.iloc[:,-1].values\n",
    "X=np.asarray(X)\n",
    "y=np.asarray(y)\n",
    "\n",
    "X_train, X_test, y_train, y_test=train_test_split(X,y,random_state=101,test_size=0.2)\n"
   ]
  },
  {
   "cell_type": "code",
   "execution_count": 7,
   "metadata": {
    "scrolled": true
   },
   "outputs": [
    {
     "name": "stdout",
     "output_type": "stream",
     "text": [
      "[[886.7  242.19 154.64 ... 569.98 503.27 139.95]\n",
      " [146.73 204.47 561.66 ... 557.18 847.25 198.07]\n",
      " [167.11 801.2  838.14 ... 888.58 823.29 193.69]\n",
      " ...\n",
      " [214.26 808.84 849.91 ... 285.01 134.94 429.36]\n",
      " [532.35 360.83 489.5  ... 845.44 837.85 827.71]\n",
      " [264.66 879.66 843.37 ... 179.37 740.44 858.76]]\n",
      "[2 1 3 ... 1 3 2]\n"
     ]
    }
   ],
   "source": [
    "print(X_train)\n",
    "print(y_train)"
   ]
  },
  {
   "cell_type": "code",
   "execution_count": 8,
   "metadata": {},
   "outputs": [],
   "source": [
    "GNB_model = GaussianNB()\n",
    "SVC_model=svm.SVC()\n",
    "LogisticR_model=LogisticRegression(random_state=101)  \n",
    "KNN_model=KNeighborsClassifier(n_neighbors=5)\n",
    "Dtree_model=DecisionTreeClassifier()\n",
    "Random_model=RandomForestClassifier(n_estimators=10)\n",
    "XGBOOST_model=xgb.XGBClassifier(objective='binary:logistic',seed=101)\n",
    "GRADIENT_model=GradientBoostingClassifier(n_estimators=10, learning_rate=1.0,max_depth=1, random_state=101)\n",
    "ADABOOST_model=AdaBoostClassifier(n_estimators=10,learning_rate=1)\n",
    "BAGGINGBOOST_model = BaggingClassifier(base_estimator=SVC(),n_estimators=10, random_state=101)\n"
   ]
  },
  {
   "cell_type": "code",
   "execution_count": null,
   "metadata": {},
   "outputs": [
    {
     "name": "stderr",
     "output_type": "stream",
     "text": [
      "C:\\Users\\GHJ\\anaconda3\\lib\\site-packages\\xgboost\\sklearn.py:1146: UserWarning: The use of label encoder in XGBClassifier is deprecated and will be removed in a future release. To remove this warning, do the following: 1) Pass option use_label_encoder=False when constructing XGBClassifier object; and 2) Encode your labels (y) as integers starting with 0, i.e. 0, 1, 2, ..., [num_class - 1].\n",
      "  warnings.warn(label_encoder_deprecation_msg, UserWarning)\n"
     ]
    },
    {
     "name": "stdout",
     "output_type": "stream",
     "text": [
      "[01:25:49] WARNING: C:/Users/Administrator/workspace/xgboost-win64_release_1.4.0/src/learner.cc:1095: Starting in XGBoost 1.3.0, the default evaluation metric used with the objective 'multi:softprob' was changed from 'merror' to 'mlogloss'. Explicitly set eval_metric if you'd like to restore the old behavior.\n"
     ]
    }
   ],
   "source": [
    "GNB_model.fit(X_train,y_train)\n",
    "SVC_model.fit(X_train,y_train)\n",
    "LogisticR_model.fit(X_train,y_train)\n",
    "KNN_model.fit(X_train,y_train)\n",
    "Dtree_model.fit(X_train,y_train)\n",
    "Random_model.fit(X_train,y_train)\n",
    "XGBOOST_model.fit(X_train,y_train)\n",
    "GRADIENT_model.fit(X_train,y_train)\n",
    "ADABOOST_model.fit(X_train,y_train)\n",
    "BAGGINGBOOST_model.fit(X_train,y_train)"
   ]
  },
  {
   "cell_type": "code",
   "execution_count": null,
   "metadata": {},
   "outputs": [],
   "source": [
    "GNB_prediction=GNB_model.predict(X_test)\n",
    "SVC_prediction=SVC_model.predict(X_test)\n",
    "LogisticR_prediction=LogisticR_model.predict(X_test)\n",
    "KNN_prediction=KNN_model.predict(X_test)\n",
    "Dtree_prediction=Dtree_model.predict(X_test)\n",
    "Random_prediction=Random_model.predict(X_test)\n",
    "XGBOOST_prediction=XGBOOST_model.predict(X_test)\n",
    "GRADIENT_prediction=GRADIENT_model.predict(X_test)\n",
    "ADABOOST_prediction=ADABOOST_model.predict(X_test)\n",
    "BAGGINGBOOST_prediction=BAGGINGBOOST_model.predict(X_test)"
   ]
  },
  {
   "cell_type": "code",
   "execution_count": null,
   "metadata": {},
   "outputs": [],
   "source": [
    "print(accuracy_score(GNB_prediction,y_test))\n",
    "print(accuracy_score(SVC_prediction,y_test))\n",
    "print(accuracy_score(LogisticR_prediction,y_test))\n",
    "print(accuracy_score(KNN_prediction,y_test))\n",
    "print(accuracy_score(Dtree_prediction,y_test))\n",
    "print(accuracy_score(Random_prediction,y_test))\n",
    "print(accuracy_score(XGBOOST_prediction,y_test))\n",
    "print(accuracy_score(GRADIENT_prediction,y_test))\n",
    "print(accuracy_score(ADABOOST_prediction,y_test))\n",
    "print(accuracy_score(BAGGINGBOOST_prediction,y_test))\n",
    "\n",
    "\n",
    "\n",
    "print(confusion_matrix(GNB_prediction,y_test))\n",
    "print(confusion_matrix(SVC_prediction,y_test))\n",
    "print(confusion_matrix(LogisticR_prediction,y_test))\n",
    "print(confusion_matrix(KNN_prediction,y_test))\n",
    "print(confusion_matrix(Dtree_prediction,y_test))\n",
    "print(confusion_matrix(Random_prediction,y_test))\n",
    "print(confusion_matrix(XGBOOST_prediction,y_test))\n",
    "print(confusion_matrix(GRADIENT_prediction,y_test))\n",
    "print(confusion_matrix(ADABOOST_prediction,y_test))\n",
    "print(confusion_matrix(BAGGINGBOOST_prediction,y_test))\n",
    "\n",
    "\n",
    "\n",
    "print(classification_report(GNB_prediction,y_test)) \n",
    "print(classification_report(SVC_prediction,y_test))\n",
    "print(classification_report(LogisticR_prediction,y_test))\n",
    "print(classification_report(KNN_prediction,y_test))\n",
    "print(classification_report(Dtree_prediction,y_test))\n",
    "print(classification_report(Random_prediction,y_test))\n",
    "print(classification_report(XGBOOST_prediction,y_test))\n",
    "print(classification_report(GRADIENT_prediction,y_test))\n",
    "print(classification_report(ADABOOST_prediction,y_test))\n",
    "print(classification_report(BAGGINGBOOST_prediction,y_test))\n",
    "\n",
    "      \n",
    "\n"
   ]
  },
  {
   "cell_type": "code",
   "execution_count": null,
   "metadata": {},
   "outputs": [],
   "source": []
  },
  {
   "cell_type": "code",
   "execution_count": null,
   "metadata": {},
   "outputs": [],
   "source": []
  }
 ],
 "metadata": {
  "kernelspec": {
   "display_name": "Python 3",
   "language": "python",
   "name": "python3"
  },
  "language_info": {
   "codemirror_mode": {
    "name": "ipython",
    "version": 3
   },
   "file_extension": ".py",
   "mimetype": "text/x-python",
   "name": "python",
   "nbconvert_exporter": "python",
   "pygments_lexer": "ipython3",
   "version": "3.8.3"
  }
 },
 "nbformat": 4,
 "nbformat_minor": 4
}
