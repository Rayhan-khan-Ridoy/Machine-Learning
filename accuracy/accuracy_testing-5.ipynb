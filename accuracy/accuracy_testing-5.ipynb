{
 "cells": [
  {
   "cell_type": "code",
   "execution_count": 1,
   "metadata": {},
   "outputs": [],
   "source": [
    "\n",
    "from sklearn.linear_model import LogisticRegression \n"
   ]
  },
  {
   "cell_type": "code",
   "execution_count": 2,
   "metadata": {},
   "outputs": [],
   "source": [
    "from sklearn.neighbors import KNeighborsClassifier\n",
    "from sklearn import svm\n",
    "from sklearn.tree import DecisionTreeClassifier\n",
    "from sklearn.ensemble import RandomForestClassifier\n",
    "from sklearn.ensemble import GradientBoostingClassifier\n",
    "from sklearn.ensemble import AdaBoostClassifier\n",
    "from sklearn.ensemble import BaggingClassifier"
   ]
  },
  {
   "cell_type": "code",
   "execution_count": 3,
   "metadata": {},
   "outputs": [],
   "source": [
    "from sklearn.svm import SVC\n"
   ]
  },
  {
   "cell_type": "code",
   "execution_count": 4,
   "metadata": {},
   "outputs": [],
   "source": [
    "import pandas as pd\n",
    "import xgboost as xgb\n",
    "from sklearn.metrics import classification_report\n",
    "from sklearn.metrics import confusion_matrix\n",
    "from sklearn.metrics import accuracy_score\n"
   ]
  },
  {
   "cell_type": "code",
   "execution_count": 5,
   "metadata": {
    "scrolled": true
   },
   "outputs": [
    {
     "name": "stdout",
     "output_type": "stream",
     "text": [
      "   730.34  224.79  197.86  799.64  842.04  724.97  237.79  247.96  507.28  \\\n",
      "0  197.86  799.64  730.34  224.79  842.04  724.97  237.79  247.96  507.28   \n",
      "1  842.04  724.97  730.34  224.79  197.86  799.64  237.79  247.96  507.28   \n",
      "2  237.79  247.96  730.34  224.79  197.86  799.64  842.04  724.97  507.28   \n",
      "3  507.28  689.68  730.34  224.79  197.86  799.64  842.04  724.97  237.79   \n",
      "4  495.39  312.55  240.27  755.28  778.13  741.41  845.54  158.47  197.07   \n",
      "\n",
      "   689.68  2  \n",
      "0  689.68  2  \n",
      "1  689.68  1  \n",
      "2  689.68  1  \n",
      "3  247.96  3  \n",
      "4  259.46  2  \n"
     ]
    }
   ],
   "source": [
    "data=pd.read_csv('Dataset_UAV_8_12_24/datasetUAV5.csv')\n",
    "print(data.head())"
   ]
  },
  {
   "cell_type": "code",
   "execution_count": 6,
   "metadata": {},
   "outputs": [],
   "source": [
    "import tensorflow as tf\n",
    "import numpy as np\n",
    "from sklearn.model_selection import train_test_split\n",
    "X=data.iloc[:487500,[9,8]].values\n",
    "y=data.iloc[:487500,-1].values\n",
    "X=np.asarray(X)\n",
    "y=np.asarray(y)\n",
    "\n",
    "X_train, X_test, y_train, y_test=train_test_split(X,y,random_state=101,test_size=0.2)\n"
   ]
  },
  {
   "cell_type": "code",
   "execution_count": 7,
   "metadata": {},
   "outputs": [
    {
     "name": "stdout",
     "output_type": "stream",
     "text": [
      "[[513.66 464.29]\n",
      " [334.19 466.74]\n",
      " [469.61 475.26]\n",
      " ...\n",
      " [733.93 153.7 ]\n",
      " [213.47 834.88]\n",
      " [519.07 673.69]]\n",
      "[1 1 1 ... 2 2 3]\n"
     ]
    }
   ],
   "source": [
    "print(X_train)\n",
    "print(y_train)"
   ]
  },
  {
   "cell_type": "code",
   "execution_count": 8,
   "metadata": {},
   "outputs": [],
   "source": [
    "SVC_model=svm.SVC()\n",
    "LogisticR_model=LogisticRegression(random_state=101)  \n",
    "KNN_model=KNeighborsClassifier(n_neighbors=5)\n",
    "Dtree_model=DecisionTreeClassifier()\n",
    "Random_model=RandomForestClassifier(n_estimators=10)\n",
    "XGBOOST_model=xgb.XGBClassifier(objective='binary:logistic',seed=101)\n",
    "GRADIENT_model=GradientBoostingClassifier(n_estimators=10, learning_rate=1.0,max_depth=1, random_state=101)\n",
    "ADABOOST_model=AdaBoostClassifier(n_estimators=10,learning_rate=1)\n",
    "BAGGINGBOOST_model = BaggingClassifier(base_estimator=SVC(),n_estimators=10, random_state=101)\n"
   ]
  },
  {
   "cell_type": "code",
   "execution_count": 9,
   "metadata": {},
   "outputs": [
    {
     "name": "stderr",
     "output_type": "stream",
     "text": [
      "C:\\Users\\GHJ\\anaconda3\\lib\\site-packages\\xgboost\\sklearn.py:1146: UserWarning: The use of label encoder in XGBClassifier is deprecated and will be removed in a future release. To remove this warning, do the following: 1) Pass option use_label_encoder=False when constructing XGBClassifier object; and 2) Encode your labels (y) as integers starting with 0, i.e. 0, 1, 2, ..., [num_class - 1].\n",
      "  warnings.warn(label_encoder_deprecation_msg, UserWarning)\n"
     ]
    },
    {
     "name": "stdout",
     "output_type": "stream",
     "text": [
      "[17:01:34] WARNING: C:/Users/Administrator/workspace/xgboost-win64_release_1.4.0/src/learner.cc:1095: Starting in XGBoost 1.3.0, the default evaluation metric used with the objective 'multi:softprob' was changed from 'merror' to 'mlogloss'. Explicitly set eval_metric if you'd like to restore the old behavior.\n"
     ]
    },
    {
     "data": {
      "text/plain": [
       "BaggingClassifier(base_estimator=SVC(), random_state=101)"
      ]
     },
     "execution_count": 9,
     "metadata": {},
     "output_type": "execute_result"
    }
   ],
   "source": [
    "SVC_model.fit(X_train,y_train)\n",
    "LogisticR_model.fit(X_train,y_train)\n",
    "KNN_model.fit(X_train,y_train)\n",
    "Dtree_model.fit(X_train,y_train)\n",
    "Random_model.fit(X_train,y_train)\n",
    "XGBOOST_model.fit(X_train,y_train)\n",
    "GRADIENT_model.fit(X_train,y_train)\n",
    "ADABOOST_model.fit(X_train,y_train)\n",
    "BAGGINGBOOST_model.fit(X_train,y_train)"
   ]
  },
  {
   "cell_type": "code",
   "execution_count": 10,
   "metadata": {},
   "outputs": [],
   "source": [
    "SVC_prediction=SVC_model.predict(X_test)\n",
    "LogisticR_prediction=LogisticR_model.predict(X_test)\n",
    "KNN_prediction=KNN_model.predict(X_test)\n",
    "Dtree_prediction=Dtree_model.predict(X_test)\n",
    "Random_prediction=Random_model.predict(X_test)\n",
    "XGBOOST_prediction=XGBOOST_model.predict(X_test)\n",
    "GRADIENT_prediction=GRADIENT_model.predict(X_test)\n",
    "ADABOOST_prediction=ADABOOST_model.predict(X_test)\n",
    "BAGGINGBOOST_prediction=BAGGINGBOOST_model.predict(X_test)"
   ]
  },
  {
   "cell_type": "code",
   "execution_count": 11,
   "metadata": {},
   "outputs": [
    {
     "name": "stdout",
     "output_type": "stream",
     "text": [
      "0.5057948717948718\n",
      "0.4277846153846154\n",
      "0.33205128205128204\n",
      "0.2602769230769231\n",
      "0.27524102564102565\n",
      "0.48584615384615387\n",
      "0.4957128205128205\n",
      "0.4861846153846154\n",
      "0.505374358974359\n",
      "[[31338  5763 27358]\n",
      " [ 6411 16223  6789]\n",
      " [ 1232   632  1754]]\n",
      "[[30309 17058 24759]\n",
      " [  619  1434  1176]\n",
      " [ 8053  4126  9966]]\n",
      "[[13556  8751 23317]\n",
      " [ 6261 11641  5406]\n",
      " [19164  2226  7178]]\n",
      "[[14523  9752 31184]\n",
      " [ 5110  9084  2947]\n",
      " [19348  3782  1770]]\n",
      "[[ 8529  6849 24405]\n",
      " [ 6676 11580  4769]\n",
      " [23776  4189  6727]]\n",
      "[[24318  6656 21624]\n",
      " [ 5139 14328  5553]\n",
      " [ 9524  1634  8724]]\n",
      "[[26487  5375 23238]\n",
      " [ 7401 16587  7405]\n",
      " [ 5093   656  5258]]\n",
      "[[30640  5673 27633]\n",
      " [ 6323 13192  4697]\n",
      " [ 2018  3753  3571]]\n",
      "[[31239  5788 27284]\n",
      " [ 6381 16210  6792]\n",
      " [ 1361   620  1825]]\n",
      "              precision    recall  f1-score   support\n",
      "\n",
      "           1       0.80      0.49      0.61     64459\n",
      "           2       0.72      0.55      0.62     29423\n",
      "           3       0.05      0.48      0.09      3618\n",
      "\n",
      "    accuracy                           0.51     97500\n",
      "   macro avg       0.52      0.51      0.44     97500\n",
      "weighted avg       0.75      0.51      0.59     97500\n",
      "\n",
      "              precision    recall  f1-score   support\n",
      "\n",
      "           1       0.78      0.42      0.55     72126\n",
      "           2       0.06      0.44      0.11      3229\n",
      "           3       0.28      0.45      0.34     22145\n",
      "\n",
      "    accuracy                           0.43     97500\n",
      "   macro avg       0.37      0.44      0.33     97500\n",
      "weighted avg       0.64      0.43      0.49     97500\n",
      "\n",
      "              precision    recall  f1-score   support\n",
      "\n",
      "           1       0.35      0.30      0.32     45624\n",
      "           2       0.51      0.50      0.51     23308\n",
      "           3       0.20      0.25      0.22     28568\n",
      "\n",
      "    accuracy                           0.33     97500\n",
      "   macro avg       0.35      0.35      0.35     97500\n",
      "weighted avg       0.34      0.33      0.34     97500\n",
      "\n",
      "              precision    recall  f1-score   support\n",
      "\n",
      "           1       0.37      0.26      0.31     55459\n",
      "           2       0.40      0.53      0.46     17141\n",
      "           3       0.05      0.07      0.06     24900\n",
      "\n",
      "    accuracy                           0.26     97500\n",
      "   macro avg       0.27      0.29      0.27     97500\n",
      "weighted avg       0.30      0.26      0.27     97500\n",
      "\n",
      "              precision    recall  f1-score   support\n",
      "\n",
      "           1       0.22      0.21      0.22     39783\n",
      "           2       0.51      0.50      0.51     23025\n",
      "           3       0.19      0.19      0.19     34692\n",
      "\n",
      "    accuracy                           0.28     97500\n",
      "   macro avg       0.31      0.30      0.30     97500\n",
      "weighted avg       0.28      0.28      0.28     97500\n",
      "\n",
      "              precision    recall  f1-score   support\n",
      "\n",
      "           1       0.62      0.46      0.53     52598\n",
      "           2       0.63      0.57      0.60     25020\n",
      "           3       0.24      0.44      0.31     19882\n",
      "\n",
      "    accuracy                           0.49     97500\n",
      "   macro avg       0.50      0.49      0.48     97500\n",
      "weighted avg       0.55      0.49      0.50     97500\n",
      "\n",
      "              precision    recall  f1-score   support\n",
      "\n",
      "           1       0.68      0.48      0.56     55100\n",
      "           2       0.73      0.53      0.61     31393\n",
      "           3       0.15      0.48      0.22     11007\n",
      "\n",
      "    accuracy                           0.50     97500\n",
      "   macro avg       0.52      0.50      0.47     97500\n",
      "weighted avg       0.64      0.50      0.54     97500\n",
      "\n",
      "              precision    recall  f1-score   support\n",
      "\n",
      "           1       0.79      0.48      0.60     63946\n",
      "           2       0.58      0.54      0.56     24212\n",
      "           3       0.10      0.38      0.16      9342\n",
      "\n",
      "    accuracy                           0.49     97500\n",
      "   macro avg       0.49      0.47      0.44     97500\n",
      "weighted avg       0.67      0.49      0.55     97500\n",
      "\n",
      "              precision    recall  f1-score   support\n",
      "\n",
      "           1       0.80      0.49      0.60     64311\n",
      "           2       0.72      0.55      0.62     29383\n",
      "           3       0.05      0.48      0.09      3806\n",
      "\n",
      "    accuracy                           0.51     97500\n",
      "   macro avg       0.52      0.51      0.44     97500\n",
      "weighted avg       0.75      0.51      0.59     97500\n",
      "\n"
     ]
    }
   ],
   "source": [
    "print(accuracy_score(SVC_prediction,y_test))\n",
    "print(accuracy_score(LogisticR_prediction,y_test))\n",
    "print(accuracy_score(KNN_prediction,y_test))\n",
    "print(accuracy_score(Dtree_prediction,y_test))\n",
    "print(accuracy_score(Random_prediction,y_test))\n",
    "print(accuracy_score(XGBOOST_prediction,y_test))\n",
    "print(accuracy_score(GRADIENT_prediction,y_test))\n",
    "print(accuracy_score(ADABOOST_prediction,y_test))\n",
    "print(accuracy_score(BAGGINGBOOST_prediction,y_test))\n",
    "\n",
    "\n",
    "\n",
    "print(confusion_matrix(SVC_prediction,y_test))\n",
    "print(confusion_matrix(LogisticR_prediction,y_test))\n",
    "print(confusion_matrix(KNN_prediction,y_test))\n",
    "print(confusion_matrix(Dtree_prediction,y_test))\n",
    "print(confusion_matrix(Random_prediction,y_test))\n",
    "print(confusion_matrix(XGBOOST_prediction,y_test))\n",
    "print(confusion_matrix(GRADIENT_prediction,y_test))\n",
    "print(confusion_matrix(ADABOOST_prediction,y_test))\n",
    "print(confusion_matrix(BAGGINGBOOST_prediction,y_test))\n",
    "\n",
    "\n",
    "\n",
    " \n",
    "print(classification_report(SVC_prediction,y_test))\n",
    "print(classification_report(LogisticR_prediction,y_test))\n",
    "print(classification_report(KNN_prediction,y_test))\n",
    "print(classification_report(Dtree_prediction,y_test))\n",
    "print(classification_report(Random_prediction,y_test))\n",
    "print(classification_report(XGBOOST_prediction,y_test))\n",
    "print(classification_report(GRADIENT_prediction,y_test))\n",
    "print(classification_report(ADABOOST_prediction,y_test))\n",
    "print(classification_report(BAGGINGBOOST_prediction,y_test))\n",
    "\n",
    "      \n",
    "\n"
   ]
  },
  {
   "cell_type": "code",
   "execution_count": null,
   "metadata": {},
   "outputs": [],
   "source": []
  },
  {
   "cell_type": "code",
   "execution_count": null,
   "metadata": {},
   "outputs": [],
   "source": []
  }
 ],
 "metadata": {
  "kernelspec": {
   "display_name": "Python 3",
   "language": "python",
   "name": "python3"
  },
  "language_info": {
   "codemirror_mode": {
    "name": "ipython",
    "version": 3
   },
   "file_extension": ".py",
   "mimetype": "text/x-python",
   "name": "python",
   "nbconvert_exporter": "python",
   "pygments_lexer": "ipython3",
   "version": "3.8.3"
  }
 },
 "nbformat": 4,
 "nbformat_minor": 4
}
