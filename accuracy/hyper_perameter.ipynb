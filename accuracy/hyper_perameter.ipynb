{
 "cells": [
  {
   "cell_type": "code",
   "execution_count": 53,
   "metadata": {},
   "outputs": [],
   "source": [
    "from sklearn import svm\n",
    "from sklearn.svm import SVC\n",
    "from sklearn.ensemble import RandomForestClassifier\n",
    "import pandas as pd\n",
    "from sklearn.metrics import classification_report\n",
    "from sklearn.metrics import confusion_matrix\n",
    "from sklearn.metrics import accuracy_score\n",
    "import tensorflow as tf\n",
    "import numpy as np\n",
    "from sklearn.model_selection import train_test_split,GridSearchCV\n",
    "from sklearn.preprocessing import StandardScaler \n",
    "from sklearn.tree import DecisionTreeClassifier"
   ]
  },
  {
   "cell_type": "code",
   "execution_count": 26,
   "metadata": {},
   "outputs": [
    {
     "name": "stdout",
     "output_type": "stream",
     "text": [
      "   857.35   162.7   111.6  900.6  888.5  860.18  198.61  175.24  499.25  \\\n",
      "0  111.60  900.60  857.35  162.7  888.5  860.18  198.61  175.24  499.25   \n",
      "1  888.50  860.18  857.35  162.7  111.6  900.60  198.61  175.24  499.25   \n",
      "2  198.61  175.24  857.35  162.7  111.6  900.60  888.50  860.18  499.25   \n",
      "3  499.25  571.10  857.35  162.7  111.6  900.60  888.50  860.18  198.61   \n",
      "4  864.29  551.18  857.35  162.7  111.6  900.60  888.50  860.18  198.61   \n",
      "\n",
      "    571.1  ...  681.92  372.08  858.96  636.8  375.09  233.13  409.53  624.02  \\\n",
      "0  571.10  ...  681.92  372.08  858.96  636.8  375.09  233.13  409.53  624.02   \n",
      "1  571.10  ...  681.92  372.08  858.96  636.8  375.09  233.13  409.53  624.02   \n",
      "2  571.10  ...  681.92  372.08  858.96  636.8  375.09  233.13  409.53  624.02   \n",
      "3  175.24  ...  681.92  372.08  858.96  636.8  375.09  233.13  409.53  624.02   \n",
      "4  175.24  ...  681.92  372.08  858.96  636.8  375.09  233.13  409.53  624.02   \n",
      "\n",
      "   815.97  2  \n",
      "0  815.97  1  \n",
      "1  815.97  1  \n",
      "2  815.97  1  \n",
      "3  815.97  3  \n",
      "4  815.97  3  \n",
      "\n",
      "[5 rows x 25 columns]\n"
     ]
    }
   ],
   "source": [
    "dataset=pd.read_csv('Dataset_UAV_8_12_24/datasetUAV12.csv')\n",
    "print(dataset.head())"
   ]
  },
  {
   "cell_type": "code",
   "execution_count": 85,
   "metadata": {},
   "outputs": [],
   "source": [
    "X=dataset.iloc[:50000,:23].values\n",
    "y=dataset.iloc[:50000,-1].values\n",
    "X=np.asarray(X)\n",
    "y=np.asarray(y)\n",
    "\n",
    "X_train, X_test, y_train, y_test=train_test_split(X,y,random_state=101,test_size=0.2)\n",
    "\n"
   ]
  },
  {
   "cell_type": "code",
   "execution_count": 86,
   "metadata": {},
   "outputs": [],
   "source": [
    "scaler=StandardScaler()\n",
    "x_train_scaled=scaler.fit_transform(X_train)\n",
    "x_test_scaled=scaler.transform(X_test)"
   ]
  },
  {
   "cell_type": "code",
   "execution_count": 87,
   "metadata": {},
   "outputs": [
    {
     "data": {
      "text/plain": [
       "array([[0.07803079, 0.9793597 , 0.10642775, ..., 0.14245522, 0.73338826,\n",
       "        0.64644122],\n",
       "       [0.49246858, 0.14583281, 0.86959555, ..., 0.36622421, 0.90767429,\n",
       "        0.58902483],\n",
       "       [0.52789496, 0.0956466 , 0.0958625 , ..., 0.79422572, 0.72800408,\n",
       "        0.34999344],\n",
       "       ...,\n",
       "       [0.23423593, 0.31003053, 0.11058076, ..., 0.31564999, 0.70612038,\n",
       "        0.81302343],\n",
       "       [0.12042538, 0.52453554, 0.85388057, ..., 0.51262386, 0.56617664,\n",
       "        0.32724632],\n",
       "       [0.02971266, 0.88538303, 0.28643572, ..., 0.70340819, 0.07194084,\n",
       "        0.31518842]])"
      ]
     },
     "execution_count": 87,
     "metadata": {},
     "output_type": "execute_result"
    }
   ],
   "source": [
    "# from sklearn.preprocessing import MinMaxScaler\n",
    "from sklearn.preprocessing import MinMaxScaler\n",
    "scaler=MinMaxScaler()\n",
    "scaler.fit(X_train)\n",
    "X_train=scaler.transform(X_train)\n",
    "X_train"
   ]
  },
  {
   "cell_type": "code",
   "execution_count": 88,
   "metadata": {},
   "outputs": [],
   "source": [
    "clf=RandomForestClassifier(n_estimators=10000)"
   ]
  },
  {
   "cell_type": "code",
   "execution_count": null,
   "metadata": {},
   "outputs": [],
   "source": [
    "clf.fit(X_train,y_train)"
   ]
  },
  {
   "cell_type": "code",
   "execution_count": null,
   "metadata": {},
   "outputs": [],
   "source": [
    "y_pred=clf.predict(x_test_scaled)"
   ]
  },
  {
   "cell_type": "markdown",
   "metadata": {},
   "source": [
    "y_pred=clf.predict(X_test)"
   ]
  },
  {
   "cell_type": "code",
   "execution_count": null,
   "metadata": {},
   "outputs": [],
   "source": [
    "accuracy_score(y_test,y_pred)"
   ]
  },
  {
   "cell_type": "code",
   "execution_count": null,
   "metadata": {},
   "outputs": [],
   "source": [
    "grid={\n",
    "    'C':[1,10,100,1000,2,3],\n",
    "    'kernel':['rbf','linear'],\n",
    "    'gamma':[0.1, 0.2, 0.3, 0.4, 0.5, 0.6, 0.7, 0.8, 0.9]\n",
    "}"
   ]
  },
  {
   "cell_type": "code",
   "execution_count": null,
   "metadata": {},
   "outputs": [],
   "source": [
    "grid_search_cv=GridSearchCV(SVC(),param_grid=grid,scoring='accuracy',n_jobs=-1)"
   ]
  },
  {
   "cell_type": "markdown",
   "metadata": {},
   "source": [
    "grid_search_cv.fit(X_train,y_train)"
   ]
  },
  {
   "cell_type": "code",
   "execution_count": null,
   "metadata": {},
   "outputs": [],
   "source": [
    "grid_search_cv.fit(x_train_scaled,y_train)"
   ]
  },
  {
   "cell_type": "code",
   "execution_count": null,
   "metadata": {},
   "outputs": [],
   "source": [
    "grid_search_cv.best_score_"
   ]
  },
  {
   "cell_type": "code",
   "execution_count": null,
   "metadata": {},
   "outputs": [],
   "source": [
    "grid_search_cv.best_params_"
   ]
  },
  {
   "cell_type": "code",
   "execution_count": null,
   "metadata": {},
   "outputs": [],
   "source": []
  }
 ],
 "metadata": {
  "kernelspec": {
   "display_name": "Python 3",
   "language": "python",
   "name": "python3"
  },
  "language_info": {
   "codemirror_mode": {
    "name": "ipython",
    "version": 3
   },
   "file_extension": ".py",
   "mimetype": "text/x-python",
   "name": "python",
   "nbconvert_exporter": "python",
   "pygments_lexer": "ipython3",
   "version": "3.8.3"
  }
 },
 "nbformat": 4,
 "nbformat_minor": 4
}
