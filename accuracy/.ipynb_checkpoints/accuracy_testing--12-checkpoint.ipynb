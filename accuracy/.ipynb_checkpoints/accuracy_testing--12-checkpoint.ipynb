{
 "cells": [
  {
   "cell_type": "code",
   "execution_count": 4,
   "metadata": {},
   "outputs": [],
   "source": [
    "\n",
    "from sklearn.linear_model import LogisticRegression \n",
    "from sklearn.naive_bayes import GaussianNB\n"
   ]
  },
  {
   "cell_type": "code",
   "execution_count": 5,
   "metadata": {},
   "outputs": [],
   "source": [
    "from sklearn.neighbors import KNeighborsClassifier\n",
    "from sklearn import svm\n",
    "from sklearn.tree import DecisionTreeClassifier\n",
    "from sklearn.ensemble import RandomForestClassifier\n",
    "from sklearn.ensemble import GradientBoostingClassifier\n",
    "from sklearn.ensemble import AdaBoostClassifier\n",
    "from sklearn.ensemble import BaggingClassifier"
   ]
  },
  {
   "cell_type": "code",
   "execution_count": 6,
   "metadata": {},
   "outputs": [],
   "source": [
    "from sklearn.svm import SVC\n"
   ]
  },
  {
   "cell_type": "code",
   "execution_count": 7,
   "metadata": {},
   "outputs": [],
   "source": [
    "import pandas as pd\n",
    "import xgboost as xgb\n",
    "from sklearn.metrics import classification_report\n",
    "from sklearn.metrics import confusion_matrix\n",
    "from sklearn.metrics import accuracy_score\n"
   ]
  },
  {
   "cell_type": "code",
   "execution_count": 8,
   "metadata": {
    "scrolled": true
   },
   "outputs": [
    {
     "name": "stdout",
     "output_type": "stream",
     "text": [
      "   807.41  535.57  161.72  182.65  170.32  861.78  494.26  221.65  143.26  \\\n",
      "0  161.72  182.65  807.41  535.57  170.32  861.78  494.26  221.65  143.26   \n",
      "1  170.32  861.78  807.41  535.57  161.72  182.65  494.26  221.65  143.26   \n",
      "2  494.26  221.65  807.41  535.57  161.72  182.65  170.32  861.78  143.26   \n",
      "3  143.26  476.72  807.41  535.57  161.72  182.65  170.32  861.78  494.26   \n",
      "4  449.64  653.16  807.41  535.57  161.72  182.65  170.32  861.78  494.26   \n",
      "\n",
      "   476.72  449.64  653.16  744.14  858.3  840.38  229.76  3  \n",
      "0  476.72  449.64  653.16  744.14  858.3  840.38  229.76  1  \n",
      "1  476.72  449.64  653.16  744.14  858.3  840.38  229.76  3  \n",
      "2  476.72  449.64  653.16  744.14  858.3  840.38  229.76  3  \n",
      "3  221.65  449.64  653.16  744.14  858.3  840.38  229.76  2  \n",
      "4  221.65  143.26  476.72  744.14  858.3  840.38  229.76  1  \n"
     ]
    }
   ],
   "source": [
    "data=pd.read_csv('Dataset_UAV_8_12_24/datasetUAV8.csv')\n",
    "print(data.head())"
   ]
  },
  {
   "cell_type": "code",
   "execution_count": 80,
   "metadata": {},
   "outputs": [],
   "source": [
    "import tensorflow as tf\n",
    "import numpy as np\n",
    "from sklearn.model_selection import train_test_split\n",
    "X=data.iloc[:500,:-1].values\n",
    "y=data.iloc[:500,:-1].values\n",
    "X=np.asarray(X)\n",
    "y=np.asarray(y)\n",
    "\n",
    "X_train, X_test, y_train, y_test=train_test_split(X,y,random_state=101,test_size=0.2)\n"
   ]
  },
  {
   "cell_type": "code",
   "execution_count": 74,
   "metadata": {},
   "outputs": [
    {
     "name": "stdout",
     "output_type": "stream",
     "text": [
      "[[516.17 769.18 848.27 ... 472.46 536.58 218.79]\n",
      " [484.46 568.36 165.21 ... 460.6  155.8  600.2 ]\n",
      " [844.7  233.69 159.8  ... 224.55 502.4  838.09]\n",
      " ...\n",
      " [845.95 156.2  170.74 ... 212.   174.59 142.69]\n",
      " [446.94 477.44 848.53 ... 177.74 841.41 475.81]\n",
      " [785.2  132.13 226.6  ... 479.3  804.16 448.26]]\n",
      "[1 1 3 ... 3 2 1]\n"
     ]
    }
   ],
   "source": [
    "print(X_train)\n",
    "print(y_train)"
   ]
  },
  {
   "cell_type": "code",
   "execution_count": 75,
   "metadata": {},
   "outputs": [],
   "source": [
    "GNB_model = GaussianNB()\n",
    "SVC_model=svm.SVC()\n",
    "LogisticR_model=LogisticRegression(random_state=101)  \n",
    "KNN_model=KNeighborsClassifier(n_neighbors=5)\n",
    "Dtree_model=DecisionTreeClassifier()\n",
    "Random_model=RandomForestClassifier(n_estimators=10)\n",
    "XGBOOST_model=xgb.XGBClassifier(objective='binary:logistic',seed=101)\n",
    "GRADIENT_model=GradientBoostingClassifier(n_estimators=10, learning_rate=1.0,max_depth=1, random_state=101)\n",
    "ADABOOST_model=AdaBoostClassifier(n_estimators=10,learning_rate=1)\n",
    "BAGGINGBOOST_model = BaggingClassifier(base_estimator=SVC(),n_estimators=10, random_state=101)\n"
   ]
  },
  {
   "cell_type": "code",
   "execution_count": 76,
   "metadata": {},
   "outputs": [
    {
     "name": "stderr",
     "output_type": "stream",
     "text": [
      "C:\\Users\\GHJ\\anaconda3\\lib\\site-packages\\xgboost\\sklearn.py:1146: UserWarning: The use of label encoder in XGBClassifier is deprecated and will be removed in a future release. To remove this warning, do the following: 1) Pass option use_label_encoder=False when constructing XGBClassifier object; and 2) Encode your labels (y) as integers starting with 0, i.e. 0, 1, 2, ..., [num_class - 1].\n",
      "  warnings.warn(label_encoder_deprecation_msg, UserWarning)\n"
     ]
    },
    {
     "name": "stdout",
     "output_type": "stream",
     "text": [
      "[23:01:58] WARNING: C:/Users/Administrator/workspace/xgboost-win64_release_1.4.0/src/learner.cc:1095: Starting in XGBoost 1.3.0, the default evaluation metric used with the objective 'multi:softprob' was changed from 'merror' to 'mlogloss'. Explicitly set eval_metric if you'd like to restore the old behavior.\n"
     ]
    },
    {
     "data": {
      "text/plain": [
       "BaggingClassifier(base_estimator=SVC(), random_state=101)"
      ]
     },
     "execution_count": 76,
     "metadata": {},
     "output_type": "execute_result"
    }
   ],
   "source": [
    "GNB_model.fit(X_train,y_train)\n",
    "SVC_model.fit(X_train,y_train)\n",
    "LogisticR_model.fit(X_train,y_train)\n",
    "KNN_model.fit(X_train,y_train)\n",
    "Dtree_model.fit(X_train,y_train)\n",
    "Random_model.fit(X_train,y_train)\n",
    "XGBOOST_model.fit(X_train,y_train)\n",
    "GRADIENT_model.fit(X_train,y_train)\n",
    "ADABOOST_model.fit(X_train,y_train)\n",
    "BAGGINGBOOST_model.fit(X_train,y_train)"
   ]
  },
  {
   "cell_type": "code",
   "execution_count": 77,
   "metadata": {},
   "outputs": [],
   "source": [
    "GNB_prediction=GNB_model.predict(X_test)\n",
    "SVC_prediction=SVC_model.predict(X_test)\n",
    "LogisticR_prediction=LogisticR_model.predict(X_test)\n",
    "KNN_prediction=KNN_model.predict(X_test)\n",
    "Dtree_prediction=Dtree_model.predict(X_test)\n",
    "Random_prediction=Random_model.predict(X_test)\n",
    "XGBOOST_prediction=XGBOOST_model.predict(X_test)\n",
    "GRADIENT_prediction=GRADIENT_model.predict(X_test)\n",
    "ADABOOST_prediction=ADABOOST_model.predict(X_test)\n",
    "BAGGINGBOOST_prediction=BAGGINGBOOST_model.predict(X_test)"
   ]
  },
  {
   "cell_type": "code",
   "execution_count": 78,
   "metadata": {},
   "outputs": [
    {
     "name": "stdout",
     "output_type": "stream",
     "text": [
      "0.3852564102564103\n",
      "0.5416666666666666\n",
      "0.3967948717948718\n",
      "0.5570512820512821\n",
      "0.5782051282051283\n",
      "0.5846153846153846\n",
      "0.6012820512820513\n",
      "0.43653846153846154\n",
      "0.43974358974358974\n",
      "0.5576923076923077\n",
      "[[300 213 184]\n",
      " [136 140 121]\n",
      " [138 167 161]]\n",
      "[[392  91  72]\n",
      " [ 96 253 194]\n",
      " [ 86 176 200]]\n",
      "[[325 222 179]\n",
      " [120 142 135]\n",
      " [129 156 152]]\n",
      "[[443 113  97]\n",
      " [ 95 260 203]\n",
      " [ 36 147 166]]\n",
      "[[400  70  67]\n",
      " [ 75 277 174]\n",
      " [ 99 173 225]]\n",
      "[[437  83  78]\n",
      " [ 73 276 189]\n",
      " [ 64 161 199]]\n",
      "[[435  78  67]\n",
      " [ 64 269 165]\n",
      " [ 75 173 234]]\n",
      "[[295 162 160]\n",
      " [133 214 134]\n",
      " [146 144 172]]\n",
      "[[292 152 168]\n",
      " [110 233 137]\n",
      " [172 135 161]]\n",
      "[[397  97  82]\n",
      " [101 279 190]\n",
      " [ 76 144 194]]\n",
      "              precision    recall  f1-score   support\n",
      "\n",
      "           1       0.52      0.43      0.47       697\n",
      "           2       0.27      0.35      0.31       397\n",
      "           3       0.35      0.35      0.35       466\n",
      "\n",
      "    accuracy                           0.39      1560\n",
      "   macro avg       0.38      0.38      0.37      1560\n",
      "weighted avg       0.41      0.39      0.39      1560\n",
      "\n",
      "              precision    recall  f1-score   support\n",
      "\n",
      "           1       0.68      0.71      0.69       555\n",
      "           2       0.49      0.47      0.48       543\n",
      "           3       0.43      0.43      0.43       462\n",
      "\n",
      "    accuracy                           0.54      1560\n",
      "   macro avg       0.53      0.54      0.53      1560\n",
      "weighted avg       0.54      0.54      0.54      1560\n",
      "\n",
      "              precision    recall  f1-score   support\n",
      "\n",
      "           1       0.57      0.45      0.50       726\n",
      "           2       0.27      0.36      0.31       397\n",
      "           3       0.33      0.35      0.34       437\n",
      "\n",
      "    accuracy                           0.40      1560\n",
      "   macro avg       0.39      0.38      0.38      1560\n",
      "weighted avg       0.42      0.40      0.41      1560\n",
      "\n",
      "              precision    recall  f1-score   support\n",
      "\n",
      "           1       0.77      0.68      0.72       653\n",
      "           2       0.50      0.47      0.48       558\n",
      "           3       0.36      0.48      0.41       349\n",
      "\n",
      "    accuracy                           0.56      1560\n",
      "   macro avg       0.54      0.54      0.54      1560\n",
      "weighted avg       0.58      0.56      0.57      1560\n",
      "\n",
      "              precision    recall  f1-score   support\n",
      "\n",
      "           1       0.70      0.74      0.72       537\n",
      "           2       0.53      0.53      0.53       526\n",
      "           3       0.48      0.45      0.47       497\n",
      "\n",
      "    accuracy                           0.58      1560\n",
      "   macro avg       0.57      0.57      0.57      1560\n",
      "weighted avg       0.57      0.58      0.58      1560\n",
      "\n",
      "              precision    recall  f1-score   support\n",
      "\n",
      "           1       0.76      0.73      0.75       598\n",
      "           2       0.53      0.51      0.52       538\n",
      "           3       0.43      0.47      0.45       424\n",
      "\n",
      "    accuracy                           0.58      1560\n",
      "   macro avg       0.57      0.57      0.57      1560\n",
      "weighted avg       0.59      0.58      0.59      1560\n",
      "\n",
      "              precision    recall  f1-score   support\n",
      "\n",
      "           1       0.76      0.75      0.75       580\n",
      "           2       0.52      0.54      0.53       498\n",
      "           3       0.50      0.49      0.49       482\n",
      "\n",
      "    accuracy                           0.60      1560\n",
      "   macro avg       0.59      0.59      0.59      1560\n",
      "weighted avg       0.60      0.60      0.60      1560\n",
      "\n",
      "              precision    recall  f1-score   support\n",
      "\n",
      "           1       0.51      0.48      0.50       617\n",
      "           2       0.41      0.44      0.43       481\n",
      "           3       0.37      0.37      0.37       462\n",
      "\n",
      "    accuracy                           0.44      1560\n",
      "   macro avg       0.43      0.43      0.43      1560\n",
      "weighted avg       0.44      0.44      0.44      1560\n",
      "\n",
      "              precision    recall  f1-score   support\n",
      "\n",
      "           1       0.51      0.48      0.49       612\n",
      "           2       0.45      0.49      0.47       480\n",
      "           3       0.35      0.34      0.34       468\n",
      "\n",
      "    accuracy                           0.44      1560\n",
      "   macro avg       0.43      0.44      0.43      1560\n",
      "weighted avg       0.44      0.44      0.44      1560\n",
      "\n",
      "              precision    recall  f1-score   support\n",
      "\n",
      "           1       0.69      0.69      0.69       576\n",
      "           2       0.54      0.49      0.51       570\n",
      "           3       0.42      0.47      0.44       414\n",
      "\n",
      "    accuracy                           0.56      1560\n",
      "   macro avg       0.55      0.55      0.55      1560\n",
      "weighted avg       0.56      0.56      0.56      1560\n",
      "\n"
     ]
    }
   ],
   "source": [
    "print(accuracy_score(GNB_prediction,y_test))\n",
    "print(accuracy_score(SVC_prediction,y_test))\n",
    "print(accuracy_score(LogisticR_prediction,y_test))\n",
    "print(accuracy_score(KNN_prediction,y_test))\n",
    "print(accuracy_score(Dtree_prediction,y_test))\n",
    "print(accuracy_score(Random_prediction,y_test))\n",
    "print(accuracy_score(XGBOOST_prediction,y_test))\n",
    "print(accuracy_score(GRADIENT_prediction,y_test))\n",
    "print(accuracy_score(ADABOOST_prediction,y_test))\n",
    "print(accuracy_score(BAGGINGBOOST_prediction,y_test))\n",
    "\n",
    "\n",
    "\n",
    "print(confusion_matrix(GNB_prediction,y_test))\n",
    "print(confusion_matrix(SVC_prediction,y_test))\n",
    "print(confusion_matrix(LogisticR_prediction,y_test))\n",
    "print(confusion_matrix(KNN_prediction,y_test))\n",
    "print(confusion_matrix(Dtree_prediction,y_test))\n",
    "print(confusion_matrix(Random_prediction,y_test))\n",
    "print(confusion_matrix(XGBOOST_prediction,y_test))\n",
    "print(confusion_matrix(GRADIENT_prediction,y_test))\n",
    "print(confusion_matrix(ADABOOST_prediction,y_test))\n",
    "print(confusion_matrix(BAGGINGBOOST_prediction,y_test))\n",
    "\n",
    "\n",
    "\n",
    "print(classification_report(GNB_prediction,y_test)) \n",
    "print(classification_report(SVC_prediction,y_test))\n",
    "print(classification_report(LogisticR_prediction,y_test))\n",
    "print(classification_report(KNN_prediction,y_test))\n",
    "print(classification_report(Dtree_prediction,y_test))\n",
    "print(classification_report(Random_prediction,y_test))\n",
    "print(classification_report(XGBOOST_prediction,y_test))\n",
    "print(classification_report(GRADIENT_prediction,y_test))\n",
    "print(classification_report(ADABOOST_prediction,y_test))\n",
    "print(classification_report(BAGGINGBOOST_prediction,y_test))\n",
    "\n",
    "      \n",
    "\n"
   ]
  },
  {
   "cell_type": "code",
   "execution_count": null,
   "metadata": {},
   "outputs": [],
   "source": []
  },
  {
   "cell_type": "code",
   "execution_count": null,
   "metadata": {},
   "outputs": [],
   "source": []
  }
 ],
 "metadata": {
  "kernelspec": {
   "display_name": "Python 3",
   "language": "python",
   "name": "python3"
  },
  "language_info": {
   "codemirror_mode": {
    "name": "ipython",
    "version": 3
   },
   "file_extension": ".py",
   "mimetype": "text/x-python",
   "name": "python",
   "nbconvert_exporter": "python",
   "pygments_lexer": "ipython3",
   "version": "3.8.3"
  }
 },
 "nbformat": 4,
 "nbformat_minor": 4
}
