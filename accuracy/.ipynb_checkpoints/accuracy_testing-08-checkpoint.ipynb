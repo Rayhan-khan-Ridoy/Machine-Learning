{
 "cells": [
  {
   "cell_type": "code",
   "execution_count": 1,
   "metadata": {},
   "outputs": [],
   "source": [
    "\n",
    "from sklearn.linear_model import LogisticRegression \n"
   ]
  },
  {
   "cell_type": "code",
   "execution_count": 2,
   "metadata": {},
   "outputs": [],
   "source": [
    "from sklearn.neighbors import KNeighborsClassifier\n",
    "from sklearn import svm\n",
    "from sklearn.tree import DecisionTreeClassifier\n",
    "from sklearn.ensemble import RandomForestClassifier\n",
    "from sklearn.ensemble import GradientBoostingClassifier\n",
    "from sklearn.ensemble import AdaBoostClassifier\n",
    "from sklearn.ensemble import BaggingClassifier"
   ]
  },
  {
   "cell_type": "code",
   "execution_count": 3,
   "metadata": {},
   "outputs": [],
   "source": [
    "from sklearn.svm import SVC\n"
   ]
  },
  {
   "cell_type": "code",
   "execution_count": 4,
   "metadata": {},
   "outputs": [],
   "source": [
    "import pandas as pd\n",
    "import xgboost as xgb\n",
    "from sklearn.metrics import classification_report\n",
    "from sklearn.metrics import confusion_matrix\n",
    "from sklearn.metrics import accuracy_score\n"
   ]
  },
  {
   "cell_type": "code",
   "execution_count": 5,
   "metadata": {
    "scrolled": true
   },
   "outputs": [
    {
     "name": "stdout",
     "output_type": "stream",
     "text": [
      "   730.34  224.79  197.86  799.64  842.04  724.97  237.79  247.96  507.28  \\\n",
      "0  197.86  799.64  730.34  224.79  842.04  724.97  237.79  247.96  507.28   \n",
      "1  842.04  724.97  730.34  224.79  197.86  799.64  237.79  247.96  507.28   \n",
      "2  237.79  247.96  730.34  224.79  197.86  799.64  842.04  724.97  507.28   \n",
      "3  507.28  689.68  730.34  224.79  197.86  799.64  842.04  724.97  237.79   \n",
      "4  495.39  312.55  240.27  755.28  778.13  741.41  845.54  158.47  197.07   \n",
      "\n",
      "   689.68  2  \n",
      "0  689.68  2  \n",
      "1  689.68  1  \n",
      "2  689.68  1  \n",
      "3  247.96  3  \n",
      "4  259.46  2  \n"
     ]
    }
   ],
   "source": [
    "data=pd.read_csv('Dataset_UAV_8_12_24/datasetUAV5.csv')\n",
    "print(data.head())"
   ]
  },
  {
   "cell_type": "code",
   "execution_count": 6,
   "metadata": {},
   "outputs": [],
   "source": [
    "import tensorflow as tf\n",
    "import numpy as np\n",
    "from sklearn.model_selection import train_test_split\n",
    "X=data.iloc[:162500,[8,9]].values\n",
    "y=data.iloc[:162500,-1].values\n",
    "X=np.asarray(X)\n",
    "y=np.asarray(y)\n",
    "\n",
    "X_train, X_test, y_train, y_test=train_test_split(X,y,random_state=101,test_size=0.2)\n"
   ]
  },
  {
   "cell_type": "code",
   "execution_count": 7,
   "metadata": {},
   "outputs": [
    {
     "name": "stdout",
     "output_type": "stream",
     "text": [
      "[[479.69 326.15]\n",
      " [227.26 788.72]\n",
      " [312.52 482.5 ]\n",
      " ...\n",
      " [772.41 730.28]\n",
      " [458.97 562.78]\n",
      " [528.37 469.87]]\n",
      "[1 1 1 ... 2 1 1]\n"
     ]
    }
   ],
   "source": [
    "print(X_train)\n",
    "print(y_train)"
   ]
  },
  {
   "cell_type": "code",
   "execution_count": 8,
   "metadata": {},
   "outputs": [],
   "source": [
    "SVC_model=svm.SVC()\n",
    "LogisticR_model=LogisticRegression(random_state=101)  \n",
    "KNN_model=KNeighborsClassifier(n_neighbors=5)\n",
    "Dtree_model=DecisionTreeClassifier()\n",
    "Random_model=RandomForestClassifier(n_estimators=10)\n",
    "XGBOOST_model=xgb.XGBClassifier(objective='binary:logistic',seed=101)\n",
    "GRADIENT_model=GradientBoostingClassifier(n_estimators=10, learning_rate=1.0,max_depth=1, random_state=101)\n",
    "ADABOOST_model=AdaBoostClassifier(n_estimators=10,learning_rate=1)\n",
    "BAGGINGBOOST_model = BaggingClassifier(base_estimator=SVC(),n_estimators=10, random_state=101)\n"
   ]
  },
  {
   "cell_type": "code",
   "execution_count": null,
   "metadata": {},
   "outputs": [],
   "source": [
    "SVC_model.fit(X_train,y_train)\n",
    "LogisticR_model.fit(X_train,y_train)\n",
    "KNN_model.fit(X_train,y_train)\n",
    "Dtree_model.fit(X_train,y_train)\n",
    "Random_model.fit(X_train,y_train)\n",
    "XGBOOST_model.fit(X_train,y_train)\n",
    "GRADIENT_model.fit(X_train,y_train)\n",
    "ADABOOST_model.fit(X_train,y_train)\n",
    "BAGGINGBOOST_model.fit(X_train,y_train)"
   ]
  },
  {
   "cell_type": "code",
   "execution_count": null,
   "metadata": {},
   "outputs": [],
   "source": [
    "SVC_prediction=SVC_model.predict(X_test)\n",
    "LogisticR_prediction=LogisticR_model.predict(X_test)\n",
    "KNN_prediction=KNN_model.predict(X_test)\n",
    "Dtree_prediction=Dtree_model.predict(X_test)\n",
    "Random_prediction=Random_model.predict(X_test)\n",
    "XGBOOST_prediction=XGBOOST_model.predict(X_test)\n",
    "GRADIENT_prediction=GRADIENT_model.predict(X_test)\n",
    "ADABOOST_prediction=ADABOOST_model.predict(X_test)\n",
    "BAGGINGBOOST_prediction=BAGGINGBOOST_model.predict(X_test)"
   ]
  },
  {
   "cell_type": "code",
   "execution_count": null,
   "metadata": {},
   "outputs": [],
   "source": [
    "print(accuracy_score(SVC_prediction,y_test))\n",
    "print(accuracy_score(LogisticR_prediction,y_test))\n",
    "print(accuracy_score(KNN_prediction,y_test))\n",
    "print(accuracy_score(Dtree_prediction,y_test))\n",
    "print(accuracy_score(Random_prediction,y_test))\n",
    "print(accuracy_score(XGBOOST_prediction,y_test))\n",
    "print(accuracy_score(GRADIENT_prediction,y_test))\n",
    "print(accuracy_score(ADABOOST_prediction,y_test))\n",
    "print(accuracy_score(BAGGINGBOOST_prediction,y_test))\n",
    "\n",
    "\n",
    "\n",
    "print(confusion_matrix(SVC_prediction,y_test))\n",
    "print(confusion_matrix(LogisticR_prediction,y_test))\n",
    "print(confusion_matrix(KNN_prediction,y_test))\n",
    "print(confusion_matrix(Dtree_prediction,y_test))\n",
    "print(confusion_matrix(Random_prediction,y_test))\n",
    "print(confusion_matrix(XGBOOST_prediction,y_test))\n",
    "print(confusion_matrix(GRADIENT_prediction,y_test))\n",
    "print(confusion_matrix(ADABOOST_prediction,y_test))\n",
    "print(confusion_matrix(BAGGINGBOOST_prediction,y_test))\n",
    "\n",
    "\n",
    "\n",
    " \n",
    "print(classification_report(SVC_prediction,y_test))\n",
    "print(classification_report(LogisticR_prediction,y_test))\n",
    "print(classification_report(KNN_prediction,y_test))\n",
    "print(classification_report(Dtree_prediction,y_test))\n",
    "print(classification_report(Random_prediction,y_test))\n",
    "print(classification_report(XGBOOST_prediction,y_test))\n",
    "print(classification_report(GRADIENT_prediction,y_test))\n",
    "print(classification_report(ADABOOST_prediction,y_test))\n",
    "print(classification_report(BAGGINGBOOST_prediction,y_test))\n",
    "\n",
    "      \n",
    "\n"
   ]
  },
  {
   "cell_type": "code",
   "execution_count": null,
   "metadata": {},
   "outputs": [],
   "source": []
  }
 ],
 "metadata": {
  "kernelspec": {
   "display_name": "Python 3",
   "language": "python",
   "name": "python3"
  },
  "language_info": {
   "codemirror_mode": {
    "name": "ipython",
    "version": 3
   },
   "file_extension": ".py",
   "mimetype": "text/x-python",
   "name": "python",
   "nbconvert_exporter": "python",
   "pygments_lexer": "ipython3",
   "version": "3.8.3"
  }
 },
 "nbformat": 4,
 "nbformat_minor": 4
}
