{
 "cells": [
  {
   "cell_type": "code",
   "execution_count": 19,
   "metadata": {},
   "outputs": [],
   "source": [
    "from sklearn.linear_model import LogisticRegression\n"
   ]
  },
  {
   "cell_type": "code",
   "execution_count": 20,
   "metadata": {},
   "outputs": [],
   "source": [
    "from sklearn.neighbors import KNeighborsClassifier\n",
    "from sklearn import svm"
   ]
  },
  {
   "cell_type": "code",
   "execution_count": 21,
   "metadata": {},
   "outputs": [],
   "source": [
    "from sklearn.svm import SVC"
   ]
  },
  {
   "cell_type": "code",
   "execution_count": 22,
   "metadata": {},
   "outputs": [],
   "source": [
    "import pandas as pd\n",
    "from sklearn.metrics import classification_report\n",
    "from sklearn.metrics import confusion_matrix\n",
    "from sklearn.metrics import accuracy_score\n"
   ]
  },
  {
   "cell_type": "code",
   "execution_count": 23,
   "metadata": {},
   "outputs": [
    {
     "name": "stdout",
     "output_type": "stream",
     "text": [
      "   857.35   162.7   111.6  900.6  888.5  860.18  198.61  175.24  499.25  \\\n",
      "0  111.60  900.60  857.35  162.7  888.5  860.18  198.61  175.24  499.25   \n",
      "1  888.50  860.18  857.35  162.7  111.6  900.60  198.61  175.24  499.25   \n",
      "2  198.61  175.24  857.35  162.7  111.6  900.60  888.50  860.18  499.25   \n",
      "3  499.25  571.10  857.35  162.7  111.6  900.60  888.50  860.18  198.61   \n",
      "4  864.29  551.18  857.35  162.7  111.6  900.60  888.50  860.18  198.61   \n",
      "\n",
      "    571.1  ...  681.92  372.08  858.96  636.8  375.09  233.13  409.53  624.02  \\\n",
      "0  571.10  ...  681.92  372.08  858.96  636.8  375.09  233.13  409.53  624.02   \n",
      "1  571.10  ...  681.92  372.08  858.96  636.8  375.09  233.13  409.53  624.02   \n",
      "2  571.10  ...  681.92  372.08  858.96  636.8  375.09  233.13  409.53  624.02   \n",
      "3  175.24  ...  681.92  372.08  858.96  636.8  375.09  233.13  409.53  624.02   \n",
      "4  175.24  ...  681.92  372.08  858.96  636.8  375.09  233.13  409.53  624.02   \n",
      "\n",
      "   815.97  2  \n",
      "0  815.97  1  \n",
      "1  815.97  1  \n",
      "2  815.97  1  \n",
      "3  815.97  3  \n",
      "4  815.97  3  \n",
      "\n",
      "[5 rows x 25 columns]\n"
     ]
    }
   ],
   "source": [
    "data=pd.read_csv('Dataset_UAV_8_12_24/datasetUAV12.csv')\n",
    "print(data.head())"
   ]
  },
  {
   "cell_type": "code",
   "execution_count": 24,
   "metadata": {},
   "outputs": [],
   "source": [
    "import tensorflow as tf\n",
    "import numpy as np\n",
    "from sklearn.model_selection import train_test_split\n",
    "X=data.iloc[:500000,:23].values\n",
    "y=data.iloc[:500000,-1].values\n",
    "X=np.asarray(X)\n",
    "y=np.asarray(y)\n",
    "\n",
    "X_train, X_test, y_train, y_test=train_test_split(X,y,random_state=101,test_size=0.2)\n"
   ]
  },
  {
   "cell_type": "code",
   "execution_count": 25,
   "metadata": {},
   "outputs": [
    {
     "name": "stdout",
     "output_type": "stream",
     "text": [
      "[[262.99 394.22 125.82 ... 673.84 781.52 158.55]\n",
      " [497.88 896.93 388.86 ... 436.   648.58 629.02]\n",
      " [873.27 834.69 904.19 ... 320.69 803.84 745.8 ]\n",
      " ...\n",
      " [913.89 170.37 168.35 ... 389.35 626.28 672.11]\n",
      " [516.76 402.26 422.52 ... 144.61 367.6  863.16]\n",
      " [601.76 874.4  429.68 ... 309.01 114.98 773.18]]\n",
      "[3 3 3 ... 2 1 3]\n"
     ]
    }
   ],
   "source": [
    "print(X_train)\n",
    "print(y_train)"
   ]
  },
  {
   "cell_type": "code",
   "execution_count": 26,
   "metadata": {},
   "outputs": [],
   "source": [
    "SVC_model=svm.SVC()\n",
    "KNN_model=KNeighborsClassifier(n_neighbors=5)"
   ]
  },
  {
   "cell_type": "code",
   "execution_count": null,
   "metadata": {},
   "outputs": [],
   "source": [
    "SVC_model.fit(X_train,y_train)\n",
    "KNN_model.fit(X_train,y_train)"
   ]
  },
  {
   "cell_type": "code",
   "execution_count": null,
   "metadata": {},
   "outputs": [],
   "source": [
    "SVC_prediction=SVC_model.predict(X_test)\n",
    "KNN_prediction=KNN_model.predict(X_test)"
   ]
  },
  {
   "cell_type": "code",
   "execution_count": null,
   "metadata": {},
   "outputs": [],
   "source": [
    "print(accuracy_score(SVC_prediction,y_test))\n",
    "print(accuracy_score(KNN_prediction,y_test))\n",
    "      \n",
    "print(confusion_matrix(SVC_prediction,y_test))\n",
    "print(confusion_matrix(KNN_prediction,y_test))\n",
    " \n",
    "print(classification_report(SVC_prediction,y_test))\n",
    "print(classification_report(KNN_prediction,y_test))\n"
   ]
  },
  {
   "cell_type": "code",
   "execution_count": null,
   "metadata": {},
   "outputs": [],
   "source": []
  }
 ],
 "metadata": {
  "kernelspec": {
   "display_name": "Python 3",
   "language": "python",
   "name": "python3"
  },
  "language_info": {
   "codemirror_mode": {
    "name": "ipython",
    "version": 3
   },
   "file_extension": ".py",
   "mimetype": "text/x-python",
   "name": "python",
   "nbconvert_exporter": "python",
   "pygments_lexer": "ipython3",
   "version": "3.8.3"
  }
 },
 "nbformat": 4,
 "nbformat_minor": 4
}
